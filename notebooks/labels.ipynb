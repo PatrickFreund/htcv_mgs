{
 "cells": [
  {
   "cell_type": "code",
   "execution_count": 31,
   "id": "442dcf77",
   "metadata": {},
   "outputs": [],
   "source": [
    "import sys\n",
    "import pandas as pd\n",
    "import numpy as np\n",
    "import matplotlib.pyplot as plt\n",
    "from pathlib import Path"
   ]
  },
  {
   "cell_type": "markdown",
   "id": "1f432869",
   "metadata": {},
   "source": [
    "# Soft-Labels"
   ]
  },
  {
   "cell_type": "markdown",
   "id": "d60d8a12",
   "metadata": {},
   "source": [
    "Advantage of Soft-Labels compared to Hard-Labels:\n",
    "1. If reviewer disagree, which the do in the provided dataset, than the soft labels show the dispersion directly (e.g. [0.4, 0.4, 0.2]) while hard labels force a decision for one class which means a loss of information. \n",
    "2. Soft-Labels create a continues target-distribution during training which enables the model to get smoother gradients then it would get with 0/1 feedback \n",
    "3. Soft-Label work against overfitting since the model can then no longer rely on the one perhaps unsafe dominant class\n",
    "Disadvantage\n",
    "1. Need more or at least 2 individuell labels per image for the soft-labels to work\n",
    "\n",
    "Advantage of Soft-Labels compared to Multiple-Hard-Labels:\n",
    "1. Taking images multiple time into training (in one epoch) with different labels has the disadvantage that the model see the images multiple times and could think that those images are more important \n",
    "2. Futhermore the contradictory feedback could make the gradients of the model unstable and hinder the learning process"
   ]
  },
  {
   "cell_type": "code",
   "execution_count": 27,
   "id": "8d91039c",
   "metadata": {},
   "outputs": [],
   "source": [
    "def calculate_mgs(row: pd.Series, reviewer_id: int, fau_keys: list) -> float:\n",
    "    \"\"\"\n",
    "    Calculate the MGS value for a given row and reviewer ID.\n",
    "    \"\"\"\n",
    "    # if orbital tighening is not set than the review will be seen as not valid just like Dr. Katharina Hohlbaum told us\n",
    "    # since orbital tightening is one of the most important facual action units for the MGS\n",
    "    if pd.isna(row.get(f\"ot{reviewer_id}\")):\n",
    "        return np.nan\n",
    "    \n",
    "    fau_values = []\n",
    "    for key in fau_keys:\n",
    "        fau_value = row.get(f\"{key}{reviewer_id}\")\n",
    "        if pd.notna(fau_value):\n",
    "            fau_values.append(int(fau_value))\n",
    "    \n",
    "    if len(fau_values) == 0:\n",
    "        return np.nan\n",
    "    \n",
    "    return round(np.mean(fau_values))"
   ]
  },
  {
   "cell_type": "code",
   "execution_count": null,
   "id": "f336f0ab",
   "metadata": {},
   "outputs": [],
   "source": [
    "path = Path(r\"C:\\Users\\Freun\\Desktop\\htcv_mgs\\data\\MGS_data\\labels\\v3_mgs_01.csv\")\n",
    "df = pd.read_csv(path, sep=\",\")\n",
    "df.replace([\"-\", \"9\"], np.nan, inplace=True)\n",
    "\n",
    "reviewer_id = list(range(1, 13))\n",
    "fau_keys = [\"ot\", \"nb\", \"cb\", \"ep\", \"wc\"]\n",
    "\n",
    "output_rows = []\n",
    "number_of_mgs_values = {}\n",
    "number_of_no_mgs_values, no_mgs_image_names = 0, []\n",
    "dominant_mgs_values = {}\n",
    "for idx, row in df.iterrows():\n",
    "    image_name = row[\"index\"]\n",
    "    mgs_values = [calculate_mgs(row, reviewer_id, fau_keys) for reviewer_id in reviewer_id]\n",
    "    mgs_values = [value for value in mgs_values if pd.notna(value)]\n",
    "    \n",
    "    if len(mgs_values) == 0: \n",
    "        number_of_no_mgs_values += 1\n",
    "        no_mgs_image_names.append(image_name)\n",
    "        continue\n",
    "\n",
    "    counts = np.bincount(mgs_values, minlength=6)\n",
    "    soft_labels = counts / counts.sum()\n",
    "    \n",
    "    # check how many images have the same number of valid MGS reviews\n",
    "    if counts.sum() in number_of_mgs_values:\n",
    "        number_of_mgs_values[counts.sum()] += 1\n",
    "    else:\n",
    "        number_of_mgs_values[counts.sum()] = 1\n",
    "    \n",
    "    # check which MGS value is the most dominant one\n",
    "    dominant_mgs = np.argmax(counts)\n",
    "    if dominant_mgs in dominant_mgs_values:\n",
    "        dominant_mgs_values[dominant_mgs] += 1\n",
    "    else:\n",
    "        dominant_mgs_values[dominant_mgs] = 1\n",
    "    \n",
    "    output_rows.append({\n",
    "        \"index\": image_name,\n",
    "        \"mgs_0\": soft_labels[0],\n",
    "        \"mgs_1\": soft_labels[1],\n",
    "        \"mgs_2\": soft_labels[2],\n",
    "    })\n",
    "\n",
    "# # Create a CSV file with the soft labels   \n",
    "# soft_labels_df = pd.DataFrame(output_rows)\n",
    "# soft_labels_df.set_index(\"index\", inplace=True)\n",
    "# soft_labels_df.to_csv(path.parent / \"mgs_soft_labels.csv\", sep=\",\")"
   ]
  },
  {
   "cell_type": "code",
   "execution_count": null,
   "id": "2bbde33e",
   "metadata": {},
   "outputs": [
    {
     "name": "stdout",
     "output_type": "stream",
     "text": [
      "Number of images with no MGS reviews: 33\n",
      "Images with no MGS reviews: ['005360.jpg', '005372.jpg', '006739.jpg', '007853.jpg', '009205.jpg', '009602.jpg', '009843.jpg', '010554.jpg', '011100.jpg', '012070.jpg', '012098.jpg', '012605.jpg', '013039.jpg', '014744.jpg', '014890.jpg', '017103.jpg', '017165.jpg', '017543.jpg', '018245.jpg', '022322.jpg', '022330.jpg', '022718.jpg', '023282.jpg', '023995.jpg', '024103.jpg', '024490.jpg', '024652.jpg', '025799.jpg', '025832.jpg', '027152.jpg', '027354.jpg', '027960.jpg', '028133.jpg']\n",
      "{np.int64(2): 515, np.int64(1): 662, np.int64(4): 608, np.int64(3): 1586, np.int64(5): 9}\n"
     ]
    },
    {
     "data": {
      "image/png": "[encoded data removed]",
      "text/plain": [
       "<Figure size 500x300 with 1 Axes>"
      ]
     },
     "metadata": {},
     "output_type": "display_data"
    }
   ],
   "source": [
    "print(f\"Number of images with no MGS reviews: {number_of_no_mgs_values}\")\n",
    "print(f\"Images with no MGS reviews: {no_mgs_image_names}\")\n",
    "print(number_of_mgs_values)\n",
    "\n",
    "plt.figure(figsize=(5, 3))\n",
    "plt.bar(number_of_mgs_values.keys(), number_of_mgs_values.values(), color='blue', alpha=0.7)\n",
    "plt.xlabel(\"Number of valid MGS reviews\")\n",
    "plt.ylabel(\"Number of images\")\n",
    "plt.title(\"Distribution of valid MGS reviews per image\")\n",
    "plt.xticks(list(number_of_mgs_values.keys()), rotation=45)\n",
    "plt.tight_layout()\n",
    "plt.show()"
   ]
  },
  {
   "cell_type": "markdown",
   "id": "bb9c5060",
   "metadata": {},
   "source": [
    "- `2718` out of `3407` labels images have at least to valid MGS reviews -> It is usefull to apply soft labels \n",
    "- `33` images doesn't have at least one valid review"
   ]
  },
  {
   "cell_type": "markdown",
   "id": "8b0d7d38",
   "metadata": {},
   "source": [
    "## Class inbalances with Soft-Label approach"
   ]
  },
  {
   "cell_type": "code",
   "execution_count": null,
   "id": "c6bc1f76",
   "metadata": {},
   "outputs": [
    {
     "name": "stdout",
     "output_type": "stream",
     "text": [
      "{np.int64(1): 1255, np.int64(0): 2027, np.int64(2): 98}\n"
     ]
    },
    {
     "data": {
      "image/png": "[encoded data removed]",
      "text/plain": [
       "<Figure size 500x300 with 1 Axes>"
      ]
     },
     "metadata": {},
     "output_type": "display_data"
    }
   ],
   "source": [
    "print(dominant_mgs_values)\n",
    "plt.figure(figsize=(5, 3))\n",
    "plt.bar(dominant_mgs_values.keys(), dominant_mgs_values.values(), color='blue', alpha=0.7)\n",
    "plt.xlabel(\"Dominant MGS value\")\n",
    "plt.ylabel(\"Number of images\")\n",
    "plt.title(\"Distribution of dominant MGS values\")\n",
    "plt.xticks(list(dominant_mgs_values.keys()), rotation=45)\n",
    "plt.tight_layout()\n",
    "plt.show()\n"
   ]
  },
  {
   "cell_type": "code",
   "execution_count": 52,
   "id": "8ce05fda",
   "metadata": {},
   "outputs": [
    {
     "name": "stdout",
     "output_type": "stream",
     "text": [
      "Class frequencies: [0.37130178 0.59970414 0.02899408]\n",
      "Inverted class frequencies: [0.06932282 0.04292064 0.88775654] to use as weights for the loss function\n"
     ]
    }
   ],
   "source": [
    "class_freq = np.array(list(dominant_mgs_values.values())) / sum(dominant_mgs_values.values())\n",
    "inverted_class_freq = 1 / class_freq\n",
    "inverted_class_freq = inverted_class_freq / sum(inverted_class_freq)  # Normalize to sum to 1\n",
    "\n",
    "print(f\"Class frequencies: {class_freq}\")\n",
    "print(f\"Inverted class frequencies: {inverted_class_freq} to use as weights for the loss function\")"
   ]
  },
  {
   "cell_type": "markdown",
   "id": "4c7fc375",
   "metadata": {},
   "source": [
    "- In nearly 60% of the images have a dominant 0 labels, meaning that in nearly 60% of the images does the mice doesn't have much pain occording to the reviewers\n",
    "- In over 37% the mice seem to have some pain\n",
    "- In only 3% the mice are considered to have great pain\n",
    "\n",
    "-> Obvious class imbalance which has to be dealt with"
   ]
  },
  {
   "cell_type": "markdown",
   "id": "056ae1b0",
   "metadata": {},
   "source": [
    "To balance the classes their must be a weightening of the losses while training. The following sources suggest using a modified version of the CrossEntropyLoss like seen in the code snipped below.\n",
    "- [Mastering Soft Labeling for Noisy Datasets: A Practical Guide](https://medium.com/@whyamit404/mastering-soft-labeling-for-noisy-datasets-a-practical-guide-76222e021091)\n",
    "- [Stackoverflow: Weighted Soft CrossEntropyLoss in Pytorch](https://stackoverflow.com/questions/68907809/soft-cross-entropy-in-pytorch/68914806#68914806)\n",
    "- [Stackoverflow: How to use soft labels in computer vision with PyTorch?](https://stackoverflow.com/questions/69530476/how-to-use-soft-labels-in-computer-vision-with-pytorch)"
   ]
  },
  {
   "cell_type": "code",
   "execution_count": null,
   "id": "a8240744",
   "metadata": {},
   "outputs": [],
   "source": [
    "class SoftCrossEntropyLoss():\n",
    "   def __init__(self, weights):\n",
    "      super().__init__()\n",
    "      self.weights = weights\n",
    "\n",
    "   def forward(self, y_hat, y):\n",
    "       # logits / y_hat: [batch_size, num_classes] - unscaled predictions\n",
    "       # y: [batch_size, num_classes] - soft labels\n",
    "       # weights: [num_classes] - weights for each class\n",
    "      p = F.log_softmax(y_hat, 1)\n",
    "      w_labels = self.weights*y\n",
    "      loss = -(w_labels*p).sum() / (w_labels).sum()\n",
    "      return loss"
   ]
  },
  {
   "cell_type": "markdown",
   "id": "1f1d4ffc",
   "metadata": {},
   "source": []
  },
  {
   "cell_type": "markdown",
   "id": "03fac98b",
   "metadata": {},
   "source": [
    "# Hard-Labels"
   ]
  },
  {
   "cell_type": "code",
   "execution_count": null,
   "id": "7a2890e9",
   "metadata": {},
   "outputs": [],
   "source": [
    "def safe_mean(row, columns):\n",
    "    values = row[columns]\n",
    "    str_values = values.astype(str)\n",
    "    \n",
    "    if \"-\" in str_values.values:\n",
    "        if any(v in [\"0\", \"1\", \"2\"] for v in str_values.values):\n",
    "            raise ValueError(f\"Invalid mix of numbers and '-' in row {row.name}\")\n",
    "        values = values.replace(\"-\", np.nan)\n",
    "\n",
    "    \n",
    "    values = pd.to_numeric(values, errors='coerce')\n",
    "    if values.isna().all():\n",
    "        return np.nan\n",
    "    else:\n",
    "        values = values.replace(9, np.nan)\n",
    "        return values.mean(axis=0, skipna=True)\n",
    "\n",
    "def create_mgs_labels(\n",
    "    mgs_path: Path,\n",
    ") -> None:\n",
    "    \"\"\"\n",
    "    The function tasks a CSV file containing the five facial action unit (FAU) values from different reviewers on the the mice images in the dataset \n",
    "    and creates a new CSV file ('labels.csv') which only contains the filename of the images and their corresponding label (accumulated and averaged MGS score) \n",
    "    \n",
    "    | filename   | label |\n",
    "    |------------|-------|\n",
    "    | img0.jpg   | 0     |\n",
    "    | img1.png   | 1     |\n",
    "    | ...        | ...   |\n",
    "\n",
    "    \"\"\"\n",
    "    \n",
    "    reviewer_columns = [\n",
    "        ['ot1', 'nb1', 'cb1', 'ep1', 'wc1'],\n",
    "        ['ot2', 'nb2', 'cb2', 'ep2', 'wc2'],\n",
    "        ['ot3', 'nb3', 'cb3', 'ep3', 'wc3'],\n",
    "        ['ot4', 'nb4', 'cb4', 'ep4', 'wc4'],\n",
    "        ['ot5', 'nb5', 'cb5', 'ep5', 'wc5'],\n",
    "        ['ot6', 'nb6', 'cb6', 'ep6', 'wc6'],\n",
    "        ['ot7', 'nb7', 'cb7', 'ep7', 'wc7'],\n",
    "        ['ot9', 'nb9', 'cb9', 'ep9', 'wc9'],\n",
    "        ['ot10', 'nb10', 'cb10', 'ep10', 'wc10'],\n",
    "        ['ot11', 'nb11', 'cb11', 'ep11', 'wc11'],\n",
    "        ['ot12', 'nb12', 'cb12', 'ep12', 'wc12']\n",
    "    ]\n",
    "    \n",
    "    df = pd.read_csv(mgs_path)\n",
    "    for i, columns in enumerate(reviewer_columns):\n",
    "        df[f'mgs_reviewer{i+1}'] = df.apply(lambda row: safe_mean(row, columns), axis=1)\n",
    "    df = df[['index'] + [f'mgs_reviewer{i+1}' for i in range(len(reviewer_columns))]]\n",
    "\n",
    "    \n",
    "    reviewer_cols = [col for col in df.columns if col.startswith('mgs_reviewer')]\n",
    "    df['mgs_mean'] = df[reviewer_cols].mean(axis=1, skipna=True)\n",
    "    df['mgs_mean_rounded'] = df['mgs_mean'].round()\n",
    "    df = df[['index', 'mgs_mean_rounded']]\n",
    "    df.to_csv(\n",
    "        mgs_path.parent / \"labels.csv\",\n",
    "        index=False,\n",
    "        header=[\"filename\", \"label\"],\n",
    "    )\n",
    "\n",
    "mgs_path = Path(r\"C:\\Users\\Freun\\Desktop\\htcv_mgs\\data\\MGS_data\\labels\\v3_mgs_01.csv\")\n",
    "create_mgs_labels(mgs_path)"
   ]
  }
 ],
 "metadata": {
  "kernelspec": {
   "display_name": "HTCV",
   "language": "python",
   "name": "python3"
  },
  "language_info": {
   "codemirror_mode": {
    "name": "ipython",
    "version": 3
   },
   "file_extension": ".py",
   "mimetype": "text/x-python",
   "name": "python",
   "nbconvert_exporter": "python",
   "pygments_lexer": "ipython3",
   "version": "3.12.9"
  }
 },
 "nbformat": 4,
 "nbformat_minor": 5
}

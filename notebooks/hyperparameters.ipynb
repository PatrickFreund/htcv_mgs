{
 "cells": [
  {
   "cell_type": "markdown",
   "id": "ae7d76fb",
   "metadata": {},
   "source": [
    "Hyperparameter Tuning (noisy datatset)\n",
    "\n",
    "This might surprise you: soft labels can change the optimal hyperparameters for your model. I’ve found:\n",
    "\n",
    "Learning Rates: A slightly smaller learning rate works better since the gradients are smoother.\n",
    "Batch Sizes: Larger batch sizes often improve stability, especially with soft labels."
   ]
  }
 ],
 "metadata": {
  "kernelspec": {
   "display_name": "HTCV",
   "language": "python",
   "name": "python3"
  },
  "language_info": {
   "name": "python",
   "version": "3.12.9"
  }
 },
 "nbformat": 4,
 "nbformat_minor": 5
}

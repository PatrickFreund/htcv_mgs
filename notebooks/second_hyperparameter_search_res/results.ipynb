{
 "cells": [
  {
   "cell_type": "markdown",
   "id": "6625f911",
   "metadata": {},
   "source": [
    "| Parameter            | Values                      |\n",
    "|----------------------|-----------------------------|\n",
    "| `batch_size`         | [32]                        |\n",
    "| `optim`              | [\"SGD\", \"Adam\"]             |\n",
    "| `weight_decay`       | [1e-4, 1e-3]                |\n",
    "| `learning_rate`      | [0.01, 0.001, 0.0001]       |\n",
    "| `epochs`             | [200]                       |\n",
    "| `lr_scheduler`       | [\"step\", \"cosine\"]          |\n",
    "| `scheduler_step_size`| [5, 30]                     |\n",
    "| `scheduler_gamma`    | [0.5, 0.1]                  |\n",
    "| `scheduler_t_max`    | [200]                       |\n",
    "| `momentum`           | [0.8, 0.9]                  |\n"
   ]
  },
  {
   "cell_type": "markdown",
   "id": "a7ee7e15",
   "metadata": {},
   "source": []
  }
 ],
 "metadata": {
  "language_info": {
   "name": "python"
  }
 },
 "nbformat": 4,
 "nbformat_minor": 5
}

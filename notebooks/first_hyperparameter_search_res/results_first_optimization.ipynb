{
 "cells": [
  {
   "cell_type": "markdown",
   "id": "44c161b0",
   "metadata": {},
   "source": [
    "# Evaluation first hyperparameter optimization run\n",
    "\n",
    "## Tested Parameters\n",
    "| Parameter | Value |\n",
    "|-----------|-------|\n",
    "| `Optimizer` | [`Adam`, `SGD`] |\n",
    "| `Learning Rate` | [`0.0001`, `0.001`, `0.01`, `0.05`] |\n",
    "| `Batch Size` | [`32`] |\n",
    "| `Epochs` | [`200`] |\n",
    "| `Loss Function` | [`CrossEntropyLoss`] |\n",
    "| `Learning Rate Scheduler` | [`none`, `StepLR`, `CosineAnnealingLR`] |\n",
    "| `Scheduler Step Size` | [`5`] |\n",
    "| `Scheduler Gamma` | [`0.5`] |\n",
    "| `Scheduler T_max` | [`50`] |\n",
    "| `Momentum` | [`0.9`, `0.8`, `0.0`] |\n",
    "\n",
    "During the evaluation of each configuration, the following training specifics were applied:\n",
    "- Weighted Cross-Entropy Loss: To account for class imbalance, class weights were computed based on the inverse normalized class distribution. These weights were then used in the cross-entropy loss function to penalize misclassifications of underrepresented classes more heavily.\n",
    "- 3-Fold Cross-Validation: For each configuration, a 3-fold cross-validation was performed. To ensure reproducibility, each fold was initialized with a distinct random seed (42, 43, and 44, respectively).\n",
    "- Early Stopping: Training was monitored using early stopping with a patience of 30 epochs, based on the validation loss. If no improvement in validation loss was observed for 30 consecutive epochs, training was halted early.\n",
    "\n",
    "After training on each fold, the model metrics corresponding to the epoch with the lowest validation loss were recorded. These metrics included validation loss, accuracy, precision, recall, and F1-score. After all folds were evaluated, the average metrics across all folds were computed to provide a more robust assessment of the model's performance for the given configuration."
   ]
  },
  {
   "cell_type": "markdown",
   "id": "838b9e76",
   "metadata": {},
   "source": [
    "## Results Summary\n",
    "|   batch_size |   epochs |   learning_rate | lr_scheduler   | model_name   | optim   |   momentum | pretrained   | loss            | acc             | f1              | precision       | recall          |\n",
    "|-------------:|---------:|----------------:|:---------------|:-------------|:--------|-----------:|:-------------|:----------------|:----------------|:----------------|:----------------|:----------------|\n",
    "|           32 |      200 |          0.01   | step           | resnet18     | SGD     |        0.9 | False        | 0.499 ± 0.0363  | 0.7729 ± 0.0215 | 0.7734 ± 0.0214 | 0.7752 ± 0.0217 | 0.7729 ± 0.0215 |\n",
    "|           32 |      200 |          0.01   | step           | resnet18     | SGD     |        0.8 | False        | 0.4794 ± 0.0138 | 0.7872 ± 0.0068 | 0.7874 ± 0.007  | 0.7877 ± 0.0073 | 0.7872 ± 0.0068 |\n",
    "|           32 |      200 |          0.01   | step           | resnet18     | Adam    |        0   | False        | 0.5134 ± 0.0166 | 0.7522 ± 0.0166 | 0.7535 ± 0.0165 | 0.7602 ± 0.0152 | 0.7522 ± 0.0166 |\n",
    "|           32 |      200 |          0.01   | step           | resnet18     | SGD     |        0   | False        | 0.4791 ± 0.0082 | 0.7699 ± 0.0149 | 0.7706 ± 0.0142 | 0.7744 ± 0.0107 | 0.7699 ± 0.0149 |\n",
    "|           32 |      200 |          0.01   | cosine         | resnet18     | SGD     |        0.9 | False        | 0.539 ± 0.0316  | 0.7339 ± 0.035  | 0.7344 ± 0.0341 | 0.7462 ± 0.0256 | 0.7339 ± 0.035  |\n",
    "|           32 |      200 |          0.01   | cosine         | resnet18     | SGD     |        0.8 | False        | 0.5212 ± 0.0392 | 0.7489 ± 0.0383 | 0.7478 ± 0.04   | 0.7557 ± 0.0376 | 0.7489 ± 0.0383 |\n",
    "|           32 |      200 |          0.01   | cosine         | resnet18     | Adam    |        0   | False        | 0.5345 ± 0.0154 | 0.7422 ± 0.0048 | 0.7426 ± 0.0051 | 0.7445 ± 0.0062 | 0.7422 ± 0.0048 |\n",
    "|           32 |      200 |          0.01   | cosine         | resnet18     | SGD     |        0   | False        | 0.4663 ± 0.0088 | 0.7817 ± 0.0129 | 0.7814 ± 0.0132 | 0.7814 ± 0.0134 | 0.7817 ± 0.0129 |\n",
    "|           32 |      200 |          0.01   | none           | resnet18     | SGD     |        0.9 | False        | 0.5327 ± 0.0297 | 0.7346 ± 0.018  | 0.7343 ± 0.0173 | 0.7364 ± 0.0159 | 0.7346 ± 0.018  |\n",
    "|           32 |      200 |          0.01   | none           | resnet18     | SGD     |        0.8 | False        | 0.5215 ± 0.0213 | 0.7489 ± 0.0198 | 0.7489 ± 0.0195 | 0.7502 ± 0.0192 | 0.7489 ± 0.0198 |\n",
    "|           32 |      200 |          0.01   | none           | resnet18     | Adam    |        0   | False        | 0.5213 ± 0.0228 | 0.7467 ± 0.0126 | 0.7459 ± 0.014  | 0.7495 ± 0.0123 | 0.7467 ± 0.0126 |\n",
    "|           32 |      200 |          0.01   | none           | resnet18     | SGD     |        0   | False        | 0.4855 ± 0.0227 | 0.7753 ± 0.0103 | 0.7751 ± 0.0109 | 0.7757 ± 0.011  | 0.7753 ± 0.0103 |\n",
    "|           32 |      200 |          0.05   | step           | resnet18     | SGD     |        0.9 | False        | 0.521 ± 0.0148  | 0.7522 ± 0.0078 | 0.7536 ± 0.0077 | 0.7619 ± 0.007  | 0.7522 ± 0.0078 |\n",
    "|           32 |      200 |          0.05   | step           | resnet18     | SGD     |        0.8 | False        | 0.515 ± 0.016   | 0.7595 ± 0.0071 | 0.7595 ± 0.0073 | 0.7631 ± 0.0095 | 0.7595 ± 0.0071 |\n",
    "|           32 |      200 |          0.05   | step           | resnet18     | Adam    |        0   | False        | 0.5415 ± 0.0209 | 0.7327 ± 0.0142 | 0.7342 ± 0.0141 | 0.7444 ± 0.0141 | 0.7327 ± 0.0142 |\n",
    "|           32 |      200 |          0.05   | step           | resnet18     | SGD     |        0   | False        | 0.4577 ± 0.0204 | 0.7833 ± 0.0106 | 0.7842 ± 0.0103 | 0.7882 ± 0.0083 | 0.7833 ± 0.0106 |\n",
    "|           32 |      200 |          0.05   | cosine         | resnet18     | SGD     |        0.9 | False        | 0.5185 ± 0.0182 | 0.7537 ± 0.0162 | 0.7541 ± 0.016  | 0.7548 ± 0.0154 | 0.7537 ± 0.0162 |\n",
    "|           32 |      200 |          0.05   | cosine         | resnet18     | SGD     |        0.8 | False        | 0.5157 ± 0.0124 | 0.747 ± 0.0065  | 0.7475 ± 0.0062 | 0.7492 ± 0.0054 | 0.747 ± 0.0065  |\n",
    "|           32 |      200 |          0.05   | cosine         | resnet18     | Adam    |        0   | False        | 0.5358 ± 0.0294 | 0.7406 ± 0.0159 | 0.742 ± 0.0159  | 0.7482 ± 0.0166 | 0.7406 ± 0.0159 |\n",
    "|           32 |      200 |          0.05   | cosine         | resnet18     | SGD     |        0   | False        | 0.4964 ± 0.02   | 0.7632 ± 0.0241 | 0.7588 ± 0.0278 | 0.7644 ± 0.0213 | 0.7632 ± 0.0241 |\n",
    "|           32 |      200 |          0.05   | none           | resnet18     | SGD     |        0.9 | False        | 0.5303 ± 0.0191 | 0.7412 ± 0.0162 | 0.7425 ± 0.0162 | 0.752 ± 0.0167  | 0.7412 ± 0.0162 |\n",
    "|           32 |      200 |          0.05   | none           | resnet18     | SGD     |        0.8 | False        | 0.5321 ± 0.0265 | 0.7537 ± 0.0121 | 0.7549 ± 0.0121 | 0.7602 ± 0.0148 | 0.7537 ± 0.0121 |\n",
    "|           32 |      200 |          0.05   | none           | resnet18     | Adam    |        0   | False        | 0.5284 ± 0.0309 | 0.7486 ± 0.0168 | 0.7496 ± 0.0172 | 0.7543 ± 0.0204 | 0.7486 ± 0.0168 |\n",
    "|           32 |      200 |          0.05   | none           | resnet18     | SGD     |        0   | False        | 0.5209 ± 0.0303 | 0.7708 ± 0.012  | 0.7713 ± 0.0113 | 0.7742 ± 0.0094 | 0.7708 ± 0.012  |\n",
    "|           32 |      200 |          0.001  | step           | resnet18     | SGD     |        0.9 | False        | 0.4752 ± 0.0078 | 0.7766 ± 0.0149 | 0.7775 ± 0.0145 | 0.7817 ± 0.0117 | 0.7766 ± 0.0149 |\n",
    "|           32 |      200 |          0.001  | step           | resnet18     | SGD     |        0.8 | False        | 0.4962 ± 0.0121 | 0.7662 ± 0.0092 | 0.7671 ± 0.0092 | 0.7694 ± 0.0098 | 0.7662 ± 0.0092 |\n",
    "|⭐         32 |      200 |          0.001  | step           | resnet18     | Adam    |        0   | False        | 0.4522 ± 0.0198 | 0.789 ± 0.0093  | 0.7898 ± 0.0092 | 0.7933 ± 0.0097 | 0.789 ± 0.0093  |\n",
    "|           32 |      200 |          0.001  | step           | resnet18     | SGD     |        0   | False        | 0.6077 ± 0.0166 | 0.7072 ± 0.0185 | 0.7086 ± 0.0184 | 0.7218 ± 0.0142 | 0.7072 ± 0.0185 |\n",
    "|           32 |      200 |          0.001  | cosine         | resnet18     | SGD     |        0.9 | False        | 0.4675 ± 0.0077 | 0.7869 ± 0.0134 | 0.7876 ± 0.0134 | 0.7898 ± 0.0142 | 0.7869 ± 0.0134 |\n",
    "|⭐         32 |      200 |          0.001  | cosine         | resnet18     | SGD     |        0.8 | False        | 0.4515 ± 0.0154 | 0.7957 ± 0.0101 | 0.7961 ± 0.0101 | 0.7974 ± 0.0098 | 0.7957 ± 0.0101 |\n",
    "|           32 |      200 |          0.001  | cosine         | resnet18     | Adam    |        0   | False        | 0.456 ± 0.0135  | 0.7872 ± 0.0138 | 0.788 ± 0.0135  | 0.7929 ± 0.0111 | 0.7872 ± 0.0138 |\n",
    "|           32 |      200 |          0.001  | cosine         | resnet18     | SGD     |        0   | False        | 0.4669 ± 0.016  | 0.783 ± 0.0089  | 0.7829 ± 0.01   | 0.7848 ± 0.0109 | 0.783 ± 0.0089  |\n",
    "|           32 |      200 |          0.001  | none           | resnet18     | SGD     |        0.9 | False        | 0.4795 ± 0.0114 | 0.7766 ± 0.0077 | 0.7762 ± 0.0062 | 0.78 ± 0.0028   | 0.7766 ± 0.0077 |\n",
    "|           32 |      200 |          0.001  | none           | resnet18     | SGD     |        0.8 | False        | 0.4773 ± 0.0155 | 0.775 ± 0.0186  | 0.7722 ± 0.0194 | 0.7749 ± 0.0186 | 0.775 ± 0.0186  |\n",
    "|           32 |      200 |          0.001  | none           | resnet18     | Adam    |        0   | False        | 0.4697 ± 0.0131 | 0.7799 ± 0.0    | 0.7808 ± 0.0003 | 0.7844 ± 0.0026 | 0.7799 ± 0.0    |\n",
    "|           32 |      200 |          0.001  | none           | resnet18     | SGD     |        0   | False        | 0.4728 ± 0.0167 | 0.7839 ± 0.0023 | 0.7844 ± 0.0028 | 0.7864 ± 0.0048 | 0.7839 ± 0.0023 |\n",
    "|           32 |      200 |          0.0001 | step           | resnet18     | SGD     |        0.9 | False        | 0.6043 ± 0.0149 | 0.7081 ± 0.0164 | 0.7095 ± 0.0163 | 0.7232 ± 0.0106 | 0.7081 ± 0.0164 |\n",
    "|           32 |      200 |          0.0001 | step           | resnet18     | SGD     |        0.8 | False        | 0.6456 ± 0.011  | 0.6804 ± 0.0298 | 0.681 ± 0.0311  | 0.7009 ± 0.0163 | 0.6804 ± 0.0298 |\n",
    "|           32 |      200 |          0.0001 | step           | resnet18     | Adam    |        0   | False        | 0.4716 ± 0.0144 | 0.7769 ± 0.0082 | 0.7774 ± 0.0076 | 0.7805 ± 0.0046 | 0.7769 ± 0.0082 |\n",
    "|           32 |      200 |          0.0001 | step           | resnet18     | SGD     |        0   | False        | 0.6759 ± 0.0052 | 0.5568 ± 0.023  | 0.5171 ± 0.0495 | 0.5512 ± 0.0294 | 0.5568 ± 0.023  |\n",
    "|           32 |      200 |          0.0001 | cosine         | resnet18     | SGD     |        0.9 | False        | 0.4654 ± 0.0173 | 0.7802 ± 0.0103 | 0.7804 ± 0.0104 | 0.7819 ± 0.0099 | 0.7802 ± 0.0103 |\n",
    "|           32 |      200 |          0.0001 | cosine         | resnet18     | SGD     |        0.8 | False        | 0.4965 ± 0.0135 | 0.7632 ± 0.0127 | 0.7629 ± 0.0125 | 0.7646 ± 0.0112 | 0.7632 ± 0.0127 |\n",
    "|           32 |      200 |          0.0001 | cosine         | resnet18     | Adam    |        0   | False        | 0.4694 ± 0.0084 | 0.7756 ± 0.0022 | 0.7763 ± 0.0019 | 0.7798 ± 0.0021 | 0.7756 ± 0.0022 |\n",
    "|           32 |      200 |          0.0001 | cosine         | resnet18     | SGD     |        0   | False        | 0.6035 ± 0.015  | 0.7096 ± 0.0181 | 0.711 ± 0.0181  | 0.7235 ± 0.0113 | 0.7096 ± 0.0181 |\n",
    "|           32 |      200 |          0.0001 | none           | resnet18     | SGD     |        0.9 | False        | 0.4633 ± 0.0155 | 0.7787 ± 0.0061 | 0.7787 ± 0.0055 | 0.7794 ± 0.005  | 0.7787 ± 0.0061 |\n",
    "|           32 |      200 |          0.0001 | none           | resnet18     | SGD     |        0.8 | False        | 0.455 ± 0.0145  | 0.7836 ± 0.0045 | 0.7844 ± 0.0044 | 0.7873 ± 0.0037 | 0.7836 ± 0.0045 |\n",
    "|           32 |      200 |          0.0001 | none           | resnet18     | Adam    |        0   | False        | 0.4807 ± 0.0056 | 0.7778 ± 0.0112 | 0.7772 ± 0.0108 | 0.7773 ± 0.011  | 0.7778 ± 0.0112 |\n",
    "|           32 |      200 |          0.0001 | none           | resnet18     | SGD     |        0   | False        | 0.5444 ± 0.0175 | 0.7425 ± 0.0178 | 0.7438 ± 0.0175 | 0.7507 ± 0.0149 | 0.7425 ± 0.0178 |\n",
    "\n",
    "\n"
   ]
  },
  {
   "cell_type": "markdown",
   "id": "5463496d",
   "metadata": {},
   "source": [
    "It is visible that the best performing configurations were those with a learning rate of `0.001` and the `Adam` optimizer, achieving the highest average accuracy and F1-score across folds. The configurations with a learning rate of `0.01` and `0.05` also performed well, particularly with the `SGD` optimizer and a momentum of `0.8`. The use of learning rate schedulers such as `StepLR` and `CosineAnnealingLR` did not significantly improve performance compared to the configurations without schedulers.\n"
   ]
  },
  {
   "cell_type": "markdown",
   "id": "f0d80122",
   "metadata": {},
   "source": [
    "![Best SGD](images/SGD_08_0.001_cosine_and_SGD_09_0.001_cosine_train.png)\n",
    "![Best Adam](images/Adam_00_0.001_step_train.png)\n",
    "![Best SGD and Adam](images/SGD_08_0.001_cosine_and_SGD_09_0.001_cosine_val.png)\n",
    "![Best SGD and Adam](images/Adam_00_0.001_step_val.png)"
   ]
  },
  {
   "cell_type": "markdown",
   "id": "2631d6ab",
   "metadata": {},
   "source": [
    "While the best individual result was achieved by the configuration using cosine LR scheduling, SGD, and a learning rate of 0.001 with 0.9 momentum (acc: 81.8%, F1: 81.9% in fold 1 (seed 42)), this setup showed more variance across folds. The configuration using the same learning rate and scheduler but with 0.8 momentum yielded the most consistent results across all folds, with an average accuracy of 79.6% and a lower standard deviation, indicating higher robustness. For deployment or generalization, the more stable configuration would be preferred, although the best individual result is of interest for further analysis.\n",
    "\n",
    "The best adam configuration: BS: 32; Epochs:200; LR: 0.001; LR_Scheduler: step; Model: resnet18; Optimizer: Adam; momentum: 0.0 achieved a accuracy score of 80.9% accuarcy and 80.5% F1-score on the validation dataset."
   ]
  },
  {
   "cell_type": "markdown",
   "id": "a38f857f",
   "metadata": {},
   "source": [
    "![SGD](images/sgd_hyperparameter_tuning_lr_scheduler_lr_focus.png)\n",
    "![Adam](images/adam_hyperparameter_tuning_lr_scheduler_lr_focus.png)"
   ]
  },
  {
   "cell_type": "markdown",
   "id": "cf014a87",
   "metadata": {},
   "source": [
    "It is visible from the parallel axis plots that for SGD neighter the learning rate, nor the learning rate scheduler or the momentum had a significant impact on the performance. It is always a question of the combination of all parameters. Meanwhile, the Adam optimizer shows very pure results for high learning rates, which is expected, as Adam is known to perform well with higher learning rates due to its adaptive nature. However similar to SGD, the learning rate scheduler does not have a significant impact on the performance of Adam."
   ]
  },
  {
   "cell_type": "markdown",
   "id": "8657d030",
   "metadata": {},
   "source": [
    "## Further intersting observations\n",
    "The dataset consists of many mouse strains and different experiments. The results shown below represent the results of the best performing model on the different mouse strains and experiments. It may become visible that the model performs well on some strains and experiments, while it struggles with others.\n",
    "\n",
    "TODO\n",
    "\n",
    "\n",
    "Depending on the results it may be necessary to also weight the loss function based on the mouse strain or experiment or go further and use an domain-adversarial approach to adapt the model to the different mouse strains and experiments. "
   ]
  },
  {
   "cell_type": "markdown",
   "id": "5a389866",
   "metadata": {},
   "source": [
    "## Explainability Results \n",
    "To further understand the model's predictions, we took the model that performed best on the validation set and applied LRP (Layer-wise Relevance Propagation) to explain its predictions. The LRP method provides insights into which parts of the input images contributed most to the model's decisions, helping to identify potential biases, spurious correlations, or areas where the model may be focusing its attention."
   ]
  },
  {
   "cell_type": "markdown",
   "id": "d3f5fa39",
   "metadata": {},
   "source": [
    "![LRP Good NoPain Example](images/mr_DSC_3754_lrp_true0_painpred0.009_nopainpred0.991_signall.png)\n",
    "![LRP Good Pain Example](images/mr_DSC_5145_lrp_true1_painpred0.963_nopainpred0.037_signall.png)\n",
    "![LRP Good Pain Example](images/mr_DSC_4856_lrp_true1_painpred0.884_nopainpred0.116_signall.png)"
   ]
  },
  {
   "cell_type": "markdown",
   "id": "431b77c0",
   "metadata": {},
   "source": [
    "For these images the model predicted: \n",
    "- **Left Image**: No Pain (True: No Pain, Predicted: 0.991)\n",
    "- **Middle Image**: Pain (True: Pain, Predicted: 0.963)\n",
    "- **Right Image**: Pain (True: Pain, Predicted: 0.884)\n",
    "\n",
    "The LRP heatmaps indicate that the model focuses on the eyes, nose and ears of the miece, which is what is hoped for, as these are the facial action units that are most indicative of pain in mice. However, the following images the models doesn't always perform well, as it focuses on the background, the edge of the images, the cage, the fur of the mice or even the angle in which the head is holded. These areas aren't what we want the model to focus on, as they are not indicative of pain in mice. \n",
    "\n",
    "![LRP Bad Pain Example](images/lw_12-1c_lrp_true1_painpred0.116_nopainpred0.884_signall.png)\n",
    "![LRP Bad Pain Example](images/mr_DSC_3845_lrp_true1_painpred0.998_nopainpred0.002_signall.png)\n",
    "![LRP Bad NoPain Example](images/lw_13-7a_lrp_true0_painpred0.087_nopainpred0.913_signall.png)\n",
    "![LRP Bad NoPain Example](images/lw_16-17c_lrp_true0_painpred0.016_nopainpred0.984_signall.png)\n",
    "\n",
    "\n",
    "For these images the model predicted:\n",
    "- **Left Image**: Pain (True: Pain, Predicted: 0.116)\n",
    "- **Middle Left Image**: Pain (True: Pain, Predicted: 0.998)\n",
    "- **Middle Right Image**: No Pain (True: No Pain, Predicted: 0.913)\n",
    "- **Right Image**: No Pain (True: No Pain, Predicted: 0.984)\n"
   ]
  },
  {
   "cell_type": "markdown",
   "id": "e6115913",
   "metadata": {},
   "source": [
    "Possible ways to improve the model's performance and make it focus more on the relevant areas could include:\n",
    "- **Data Augmentation**: Since the model seems to highly focus and the edges of the images and the background, it might be beneficial to augment the training data by blurring the background at the edges of the images or cropping the images further to focus more on the mouse's faces.\n",
    "- **Domain Adaptation**: If the model is trained on a specific strain or experiment, it might be beneficial to adapt the model to other strains or experiments using domain adaptation techniques.\n"
   ]
  },
  {
   "cell_type": "markdown",
   "id": "3761589c",
   "metadata": {},
   "source": [
    "## Utils for Markdown Table\n",
    "```\n",
    "import pandas as pd\n",
    "\n",
    "# CSV-Datei laden\n",
    "df = pd.read_csv(\"combined_results.csv\")  # <-- Passe hier den Dateinamen an, falls nötig\n",
    "\n",
    "# Liste der Metriken, die du als \"mean ± std\" zusammenführen willst\n",
    "metrics = ['loss', 'acc', 'f1', 'precision', 'recall']\n",
    "\n",
    "# Neue Spalten im Format \"mean ± std\" erzeugen\n",
    "for metric in metrics:\n",
    "    mean_col = f'mean_{metric}'\n",
    "    std_col = f'std_{metric}'\n",
    "    df[metric] = df[mean_col].round(4).astype(str) + ' ± ' + df[std_col].round(4).astype(str)\n",
    "\n",
    "# Alte mean/std-Spalten löschen\n",
    "df.drop(columns=[f'mean_{m}' for m in metrics] + [f'std_{m}' for m in metrics], inplace=True)\n",
    "\n",
    "df_short = df[['batch_size', 'epochs', 'learning_rate', 'lr_scheduler',\n",
    "               'model_name', 'optim', \"momentum\", 'pretrained', 'loss', 'acc', 'f1', 'precision', 'recall']]\n",
    "\n",
    "# Wandle in Markdown um\n",
    "markdown_table = df_short.to_markdown(index=False)\n",
    "```"
   ]
  },
  {
   "cell_type": "markdown",
   "id": "c4373ae1",
   "metadata": {},
   "source": []
  }
 ],
 "metadata": {
  "kernelspec": {
   "display_name": "HTCV_LRP",
   "language": "python",
   "name": "python3"
  },
  "language_info": {
   "codemirror_mode": {
    "name": "ipython",
    "version": 3
   },
   "file_extension": ".py",
   "mimetype": "text/x-python",
   "name": "python",
   "nbconvert_exporter": "python",
   "pygments_lexer": "ipython3",
   "version": "3.12.9"
  }
 },
 "nbformat": 4,
 "nbformat_minor": 5
}

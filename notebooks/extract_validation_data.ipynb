{
 "cells": [
  {
   "cell_type": "code",
   "execution_count": null,
   "id": "8e7518a3",
   "metadata": {},
   "outputs": [],
   "source": [
    "import sys\n",
    "import shutil\n",
    "from pathlib import Path\n",
    "\n",
    "sys.path.append(str(Path().resolve().parent.parent))\n",
    "from datamodule.dataset import ImageCSVDataset\n",
    "from datamodule.splitter import KFoldSplit\n",
    "\n",
    "\n",
    "\n",
    "dataset_path = Path().resolve().parent.parent / \"data\" / \"MGS_data\"\n",
    "dataset = ImageCSVDataset(dataset_path)  # Replace with your actual dataset\n",
    "splitter = KFoldSplit(k=3, seed=42)\n",
    "\n",
    "train_indices, val_indices = splitter.get_splits(dataset)[0]  # Get the first split\n",
    "\n",
    "lrp_sign_all = Path().resolve().parent.parent / \"explainability\" / \"results\" / \"nbg\" / \"sign_all\"\n",
    "lrp_sign_pos = Path().resolve().parent.parent / \"explainability\" / \"results\" / \"nbg\" / \"sign_positive\"\n",
    "lrp_val_sign_all = Path().resolve().parent.parent / \"explainability\" / \"results\" / \"nbg\" / \"val\" / \"sign_all\"\n",
    "lrp_val_sign_pos = Path().resolve().parent.parent / \"explainability\" / \"results\" / \"nbg\" / \"val\" / \"sign_positive\"\n",
    "\n",
    "lrp_val_sign_all.mkdir(parents=True, exist_ok=True)\n",
    "lrp_val_sign_pos.mkdir(parents=True, exist_ok=True)\n",
    "print(f\"train_indices: {len(train_indices)}, val_indices: {len(val_indices)}\")\n",
    "for idx in val_indices:\n",
    "    _, image_name, _ = dataset[idx]\n",
    "    image_stem = image_name.stem\n",
    "    \n",
    "    # print(f\"Processing {image_stem} for LRP results...\")\n",
    "    pattern = f\"{image_stem}_lrp*\"\n",
    "    src_all_matches = list(lrp_sign_all.glob(pattern))\n",
    "    src_all = src_all_matches[0] if src_all_matches else None\n",
    "    src_pos_matches = list(lrp_sign_pos.glob(pattern))\n",
    "    scr_pos = src_pos_matches[0] if src_pos_matches else None\n",
    "        \n",
    "    if not src_all.exists() and not scr_pos.exists():\n",
    "        print(f\"[WARN] No LRP files found for {image_name.name}\")\n",
    "        continue\n",
    "    \n",
    "    dst_src_all = lrp_val_sign_all / src_all.name\n",
    "    dst_src_pos = lrp_val_sign_pos / scr_pos.name\n",
    "    \n",
    "    if src_all.exists():\n",
    "        shutil.copy(src_all, dst_src_all)\n",
    "    \n",
    "    if scr_pos.exists():\n",
    "        shutil.copy(scr_pos, dst_src_pos)"
   ]
  }
 ],
 "metadata": {
  "language_info": {
   "name": "python"
  }
 },
 "nbformat": 4,
 "nbformat_minor": 5
}
